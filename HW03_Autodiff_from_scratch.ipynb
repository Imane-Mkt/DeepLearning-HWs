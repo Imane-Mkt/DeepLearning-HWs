{
  "cells": [
    {
      "cell_type": "markdown",
      "metadata": {
        "id": "oJiauBGr6hUG"
      },
      "source": [
        "# HW03 - Automatic differentiation from scratch\n",
        "In this practical, our aim is to understand how Pytorch performs automatic differentiation by making **our very own pytorch library**! To do so, we will reimplement the `backward()` function of PyTorch using NumPy only. This method will be able to backpropagate the gradients through any computation graph made of simple functions and store the gradient of the loss for each input parameter."
      ]
    },
    {
      "cell_type": "code",
      "source": [
        "import numpy as np\n",
        "import matplotlib.pyplot as plt\n",
        "from graphviz import Digraph\n",
        "from PIL import Image\n",
        "import IPython.display as display"
      ],
      "metadata": {
        "id": "c7xVzwgemkae"
      },
      "execution_count": 1,
      "outputs": []
    },
    {
      "cell_type": "markdown",
      "source": [
        "# Part A - Creating the computation graph"
      ],
      "metadata": {
        "id": "JyBvqMtjxuku"
      }
    },
    {
      "cell_type": "markdown",
      "source": [
        "Create a `Tensor` class that contains three fields: a numpy array `data` containing the value of the tensor, a set `_parents` that contains the parent nodes (i.e. Tensors) in the computation graph, and a string `_function` that contains the name of the function used to compute it (if any). The `__init__` method should only take `data` as input, and set `_function` and `_parents` to default values (`None` and `set()`, respectively). Add a `__repr__` function to print the value of tensors in a proper format."
      ],
      "metadata": {
        "id": "bL8bMap2xXR4"
      }
    },
    {
      "cell_type": "code",
      "source": [
        "### YOUR CODE HERE ###\n",
        "class Tensor:\n",
        "    def __init__(self,data):\n",
        "        self.data = data #assumed to be a numpy array\n",
        "        self._function = None\n",
        "        self._parents = set()\n",
        "    def __repr__(self):\n",
        "        return f\"Tensor({self.data})\"\n",
        "\n",
        "tensor = Tensor(np.array([[1, 2], [3, 4]]))\n",
        "print(tensor)\n"
      ],
      "metadata": {
        "id": "Ql-Ol0mg0KS-",
        "colab": {
          "base_uri": "https://localhost:8080/"
        },
        "outputId": "f60921b4-6583-4806-f30e-e73cf2e26586"
      },
      "execution_count": 2,
      "outputs": [
        {
          "output_type": "stream",
          "name": "stdout",
          "text": [
            "Tensor([[1 2]\n",
            " [3 4]])\n"
          ]
        }
      ]
    },
    {
      "cell_type": "markdown",
      "source": [
        "Write functions `add(tensor1, tensor2)` and `mul(tensor1, tensor2)` that perform addition and multiplication of tensors, and properly update the value of the output tensor's hidden fields (`_function` and `_parents`). We will assume, for simplicity, that tensors are only scalars at this point. Test your functions on simple examples."
      ],
      "metadata": {
        "id": "scRhwxSy4Sc2"
      }
    },
    {
      "cell_type": "code",
      "source": [
        "### YOUR CODE HERE ###\n",
        "def add(tensor1,tensor2):\n",
        "    out = Tensor(tensor1.data + tensor2.data)\n",
        "    out._function = \"add\"\n",
        "    out._parents = {tensor1, tensor2}\n",
        "    return out\n",
        "\n",
        "def mul(tensor1, tensor2):\n",
        "    out = Tensor(tensor1.data * tensor2.data)\n",
        "    out._function = \"mul\"\n",
        "    out._parents = {tensor1, tensor2}\n",
        "    return out\n",
        "\n",
        "# example\n",
        "tensor1 = Tensor(np.array([1, 2, 3]))\n",
        "tensor2 = Tensor(np.array([4, 5, 6]))\n",
        "\n",
        "add_tensor = add(tensor1, tensor2)\n",
        "mul_tensor = mul(tensor1, tensor2)\n",
        "\n",
        "print(f\"Added Tensor: {add_tensor}, Function: {add_tensor._function}, Parents: {[repr(p) for p in add_tensor._parents]}\")\n",
        "print(f\"Multiplied Tensor: {mul_tensor}, Function: {mul_tensor._function}, Parents: {[repr(p) for p in mul_tensor._parents]}\")"
      ],
      "metadata": {
        "id": "f6GCiyX_4a6s",
        "colab": {
          "base_uri": "https://localhost:8080/"
        },
        "outputId": "58314747-95ec-4d6b-952e-eb36ca53f239"
      },
      "execution_count": 3,
      "outputs": [
        {
          "output_type": "stream",
          "name": "stdout",
          "text": [
            "Added Tensor: Tensor([5 7 9]), Function: add, Parents: ['Tensor([1 2 3])', 'Tensor([4 5 6])']\n",
            "Multiplied Tensor: Tensor([ 4 10 18]), Function: mul, Parents: ['Tensor([1 2 3])', 'Tensor([4 5 6])']\n"
          ]
        }
      ]
    },
    {
      "cell_type": "markdown",
      "source": [
        "Now overload the operators `+` and `*` for tensors with your own functions (see e.g. https://docs.python.org/3/library/operator.html). Test it on simple examples."
      ],
      "metadata": {
        "id": "wAYkRWr4-KA9"
      }
    },
    {
      "cell_type": "code",
      "source": [
        "### YOUR CODE HERE ###\n",
        "Tensor.__add__ = add\n",
        "Tensor.__mul__ = mul\n",
        "\n",
        "# example\n",
        "tensor1 = Tensor(np.array([1, 2, 3]))\n",
        "tensor2 = Tensor(np.array([4, 5, 6]))\n",
        "\n",
        "add_tensor = tensor1 + tensor2\n",
        "mul_tensor = tensor1 * tensor2\n",
        "\n",
        "print(f\"Added Tensor: {add_tensor}, Function: {add_tensor._function}, Parents: {[repr(p) for p in add_tensor._parents]}\")\n",
        "print(f\"Multiplied Tensor: {mul_tensor}, Function: {mul_tensor._function}, Parents: {[repr(p) for p in mul_tensor._parents]}\")"
      ],
      "metadata": {
        "id": "_8ggK3_s-Sy0",
        "colab": {
          "base_uri": "https://localhost:8080/"
        },
        "outputId": "c1f7a128-7030-42d5-b684-2304d02fe8f3"
      },
      "execution_count": 4,
      "outputs": [
        {
          "output_type": "stream",
          "name": "stdout",
          "text": [
            "Added Tensor: Tensor([5 7 9]), Function: add, Parents: ['Tensor([4 5 6])', 'Tensor([1 2 3])']\n",
            "Multiplied Tensor: Tensor([ 4 10 18]), Function: mul, Parents: ['Tensor([4 5 6])', 'Tensor([1 2 3])']\n"
          ]
        }
      ]
    },
    {
      "cell_type": "markdown",
      "source": [
        "Write the `trace_graph` function that returns a list of all nodes and edges (i.e. pairs of nodes) in the computation graph."
      ],
      "metadata": {
        "id": "OqD24Z0K_Ars"
      }
    },
    {
      "cell_type": "code",
      "source": [
        "def trace_graph(tensor):\n",
        "    \"\"\"\n",
        "    Trace the computational graph starting from a tensor.\n",
        "    Returns the nodes and edges of the graph.\n",
        "    \"\"\"\n",
        "    nodes, edges = set(), set()\n",
        "\n",
        "    ### YOUR CODE HERE ###\n",
        "    queue = [tensor]\n",
        "\n",
        "    while queue:\n",
        "        current_tensor = queue.pop(0)\n",
        "        if current_tensor not in nodes:\n",
        "            nodes.add(current_tensor)\n",
        "            for parent in current_tensor._parents:\n",
        "                edges.add((parent, current_tensor))\n",
        "                if parent not in nodes:\n",
        "                    queue.append(parent)\n",
        "\n",
        "    return nodes, edges"
      ],
      "metadata": {
        "id": "EogmdSoNnZ89"
      },
      "execution_count": 5,
      "outputs": []
    },
    {
      "cell_type": "code",
      "source": [
        "def draw_computation_graph(tensor):\n",
        "    \"\"\"\n",
        "    Plot the computation graph starting from a given tensor.\n",
        "    \"\"\"\n",
        "    dot = Digraph(format='png', graph_attr={'rankdir': 'LR'})  # Left-to-right layout\n",
        "\n",
        "    # Trace the graph and get nodes and edges\n",
        "    nodes, edges = trace_graph(tensor)\n",
        "\n",
        "    for node in nodes:\n",
        "        node_label = node._function if node._function else f\"{np.linalg.norm(node.data):.2f}\"\n",
        "        # Add node to the graph, label with its value\n",
        "        dot.node(str(id(node)), label=node_label, shape='circle')\n",
        "\n",
        "    for n1, n2 in edges:\n",
        "        # Create edges between nodes\n",
        "        dot.edge(str(id(n1)), str(id(n2)))\n",
        "\n",
        "    # Render and display the graph\n",
        "    graph_path = dot.render(filename='computation-graph')\n",
        "    img = Image.open(graph_path)\n",
        "    display.display(img)"
      ],
      "metadata": {
        "id": "NE031PTtC9Mg"
      },
      "execution_count": 6,
      "outputs": []
    },
    {
      "cell_type": "markdown",
      "source": [
        "Test the visualization tool with the\n",
        "function $x^2 + 4x + 2$."
      ],
      "metadata": {
        "id": "0bB1i3yyDGWA"
      }
    },
    {
      "cell_type": "code",
      "source": [
        "### YOUR CODE HERE ###\n",
        "\n",
        "x = Tensor(3)  # let x be 3\n",
        "x_squared = x * x\n",
        "four_x = Tensor(4) * x\n",
        "polynomial = x_squared + four_x + Tensor(2)\n",
        "\n",
        "draw_computation_graph(polynomial)"
      ],
      "metadata": {
        "id": "lhE7YpGsDBio",
        "colab": {
          "base_uri": "https://localhost:8080/",
          "height": 233
        },
        "outputId": "0758f312-090e-47bb-9271-7c783286b607"
      },
      "execution_count": 7,
      "outputs": [
        {
          "output_type": "display_data",
          "data": {
            "text/plain": [
              "<PIL.PngImagePlugin.PngImageFile image mode=RGB size=425x216>"
            ],
            "image/png": "[encoded data removed]",
            "image/jpeg": "[encoded data removed]"
          },
          "metadata": {}
        }
      ]
    },
    {
      "cell_type": "markdown",
      "source": [
        "# Part B - The backpropagation algorithm"
      ],
      "metadata": {
        "id": "8BdZDfoAyPmj"
      }
    },
    {
      "cell_type": "markdown",
      "source": [
        "We will implement backpropagation by using tensors as nodes of the computation graph. To do so, each function used during the computation will add a `_backward` method to its output tensor. The purpose of this method is to update the gradient (`grad`) of the function's input tensors according to the chain rule (see the new `add` function below). Modify `mul` accordingly."
      ],
      "metadata": {
        "id": "ite-dFa8CDu1"
      }
    },
    {
      "cell_type": "code",
      "source": [
        "def add(tensor1, tensor2):\n",
        "    out = Tensor(tensor1.data + tensor2.data)\n",
        "\n",
        "    def _backward():\n",
        "        tensor1.grad = tensor1.grad + out.grad\n",
        "        tensor2.grad = tensor2.grad + out.grad\n",
        "\n",
        "    out._backward = _backward\n",
        "    out._function = \"add\"\n",
        "    out._parents = {tensor1, tensor2}\n",
        "\n",
        "    return out\n",
        "\n",
        "### YOUR CODE HERE ###\n",
        "\n",
        "def mul(tensor1, tensor2):\n",
        "    out = Tensor(tensor1.data * tensor2.data)\n",
        "    def _backward():\n",
        "        tensor1.grad = tensor1.grad + out.grad * tensor2.data\n",
        "        tensor2.grad = tensor2.grad + out.grad * tensor1.data\n",
        "    out._backward = _backward\n",
        "    out._function = \"mul\"\n",
        "    out._parents = {tensor1, tensor2}\n",
        "    return out"
      ],
      "metadata": {
        "id": "x3AS3DZHnRvu"
      },
      "execution_count": 8,
      "outputs": []
    },
    {
      "cell_type": "markdown",
      "source": [
        "Add the logarithm and exponential functions."
      ],
      "metadata": {
        "id": "--7D4V_wEjX2"
      }
    },
    {
      "cell_type": "code",
      "source": [
        "### YOUR CODE HERE ###\n",
        "def log(tensor):\n",
        "    out = Tensor(np.log(tensor.data))\n",
        "    def _backward():\n",
        "        tensor.grad = tensor.grad + out.grad / tensor.data\n",
        "\n",
        "    out._backward = _backward\n",
        "    out._function = \"log\"\n",
        "    out._parents = {tensor}\n",
        "    return out\n",
        "\n",
        "def exp(t):\n",
        "    out = Tensor(np.exp(t.data))\n",
        "    def _backward():\n",
        "        t.grad = t.grad + out.grad * np.exp(t.data)\n",
        "\n",
        "    out._backward = _backward\n",
        "    out._function = \"exp\"\n",
        "    out._parents = {t}\n",
        "    return out"
      ],
      "metadata": {
        "id": "dEOYr2ikEoic"
      },
      "execution_count": 9,
      "outputs": []
    },
    {
      "cell_type": "markdown",
      "source": [
        "Now extend the `Tensor` class to also contains the fields:\n",
        "\n",
        "1.   `grad` (default value: `None`) that will contain, after calling `backward()`, the gradient of the output with respect to this tensor.\n",
        "2.   `_backward` (default value: `lambda: None`) that will implement the chain rule for the function whose output is this tensor.\n",
        "\n",
        "Finally add a method `backward(self)` that implements the backpropagation algorithm. To do so:\n",
        "\n",
        "1. Build a list of tensors (i.e. nodes of the computation graph) that contains all nodes, from the current tensor (generally the final output or loss) to the roots (the input tensors or parameters in a learning setting), and such that parents appear after their children in the list.\n",
        "2. Initialize all nodes' gradients `node.grad` to zero.\n",
        "3. Initialize the current tensor's gradient `self.grad` to one.\n",
        "4. Apply the `node._backward()` function for each node in the list.\n",
        "\n",
        "To test your backpropagation algorithm, compute the gradient of $x*x + 5x - 1$ at $x=2$ and verify that the result is indeed $9$."
      ],
      "metadata": {
        "id": "gNTd-4ctAuDO"
      }
    },
    {
      "cell_type": "code",
      "source": [
        "### YOUR CODE HERE ###\n",
        "\n",
        "class Tensor:\n",
        "    def __init__(self, data):\n",
        "        self.data = data\n",
        "        self._function = None\n",
        "        self._parents = set()\n",
        "        self.grad = 0\n",
        "        self._backward = lambda: None\n",
        "\n",
        "    def __repr__(self):\n",
        "        return f\"Tensor({self.data})\"\n",
        "\n",
        "    def backward(self):\n",
        "        sorted_nodes = []\n",
        "        visited = set()\n",
        "\n",
        "        def dfs(node):\n",
        "            if node not in visited:\n",
        "                visited.add(node)\n",
        "                for parent in node._parents:\n",
        "                    dfs(parent)\n",
        "                sorted_nodes.append(node)\n",
        "\n",
        "        dfs(self)\n",
        "        sorted_nodes.reverse()\n",
        "\n",
        "        for node in sorted_nodes:\n",
        "            node.grad = 0\n",
        "\n",
        "        self.grad = 1\n",
        "\n",
        "        for node in sorted_nodes:\n",
        "            node._backward()\n",
        "\n",
        "Tensor.__add__ = add\n",
        "Tensor.__mul__ = mul\n",
        "\n",
        "x = Tensor(2.0)\n",
        "x2 = x * x\n",
        "five_x = Tensor(5.0) * x\n",
        "y = x2 + five_x + Tensor(-1.0)\n",
        "\n",
        "y.backward()\n",
        "print(f\"Gradient of x for  x*x + 5*x - 1 at x = 2: {x.grad}\")\n"
      ],
      "metadata": {
        "colab": {
          "base_uri": "https://localhost:8080/"
        },
        "id": "fOkTEiLz7tUP",
        "outputId": "bbf4c177-cb99-4cf0-cf4b-f560832a4871"
      },
      "execution_count": 10,
      "outputs": [
        {
          "output_type": "stream",
          "name": "stdout",
          "text": [
            "Gradient of x for  x*x + 5*x - 1 at x = 2: 9.0\n"
          ]
        }
      ]
    },
    {
      "cell_type": "markdown",
      "source": [
        "# Part C - Optimization with gradient descent"
      ],
      "metadata": {
        "id": "_rUtPKOwyE62"
      }
    },
    {
      "cell_type": "markdown",
      "source": [
        "Now that we have implemented automatic differentiation, use it to perform gradient descent on the function $f(x) = x^2 + 5x - 1$, and verify that GD with a small step-size converges to $x^*=-5/2$. Then, test on the more complex function $f(x) = log(1+e^{-x}) + log(1+e^{2x^2})$, and verify that GD with a small step-size converges to $x^*=0.2136$."
      ],
      "metadata": {
        "id": "Ne3_NUMvGl4g"
      }
    },
    {
      "cell_type": "code",
      "source": [
        "def neg(tensor):\n",
        "    out = Tensor(-tensor.data)\n",
        "    out._function = 'neg'\n",
        "    out._parents.add(tensor)\n",
        "    def _backward():\n",
        "        tensor.grad -= out.grad\n",
        "    out._backward = _backward\n",
        "    return out\n",
        "Tensor.__neg__ = neg"
      ],
      "metadata": {
        "id": "IvOpXlvBRlYt"
      },
      "execution_count": 11,
      "outputs": []
    },
    {
      "cell_type": "code",
      "source": [
        "### YOUR CODE HERE ###\n",
        "\n",
        "def gradient_descent(initial_x, function, epochs, learning_rate):\n",
        "    x = Tensor(initial_x)\n",
        "    for epoch in range(epochs):\n",
        "        x.grad = 0\n",
        "        y = function(x)\n",
        "        y.backward()\n",
        "        x.data -= learning_rate * x.grad\n",
        "        #print(f\"Epoch {epoch + 1}: x = {x.data}, f(x) = {y.data}, grad = {x.grad}\")\n",
        "    return x.data\n",
        "\n",
        "def func1(x):\n",
        "    return x * x + Tensor(5.0) * x + Tensor(-1.0)\n",
        "\n",
        "def func2(x):\n",
        "    term1 = log(Tensor(1) + exp(-x))\n",
        "    term2 = log(Tensor(1) + exp(Tensor(2) * x * x))\n",
        "    return term1 + term2\n",
        "\n",
        "initial_x = 0.0\n",
        "epochs = 50\n",
        "learning_rate = 0.1\n",
        "final_x = gradient_descent(initial_x, func1, epochs, learning_rate)\n",
        "print(f\"Final x after gradient descent on func1: {final_x}\")\n",
        "\n",
        "initial_x = 0.0\n",
        "epochs = 350    #the second function requires more epochs to converge\n",
        "learning_rate = 0.1\n",
        "final_x = gradient_descent(initial_x, func2, epochs, learning_rate)\n",
        "print(f\"Final x after gradient descent on func2: {final_x}\")"
      ],
      "metadata": {
        "id": "Wy3GC2GHnXNO",
        "colab": {
          "base_uri": "https://localhost:8080/"
        },
        "outputId": "8e9cced2-70aa-48aa-e83d-6c11c23d72a0"
      },
      "execution_count": 12,
      "outputs": [
        {
          "output_type": "stream",
          "name": "stdout",
          "text": [
            "Final x after gradient descent on func1: -2.4999643188076823\n",
            "Final x after gradient descent on func2: 0.21364944942102596\n"
          ]
        }
      ]
    },
    {
      "cell_type": "markdown",
      "source": [
        "# Part D - Matrix and regression setting (optional)\n",
        "Update the code to allow for matrix-vector products and the ReLU function, and test it on a regression problem with a 2-layer MLP."
      ],
      "metadata": {
        "id": "1Kicj9v1lLGm"
      }
    },
    {
      "cell_type": "code",
      "source": [],
      "metadata": {
        "id": "7kbDmiC-udLc"
      },
      "execution_count": 12,
      "outputs": []
    }
  ],
  "metadata": {
    "colab": {
      "provenance": []
    },
    "kernelspec": {
      "display_name": "Python 3",
      "name": "python3"
    },
    "language_info": {
      "name": "python"
    }
  },
  "nbformat": 4,
  "nbformat_minor": 0
}
